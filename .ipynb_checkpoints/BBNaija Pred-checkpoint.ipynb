{
 "cells": [
  {
   "cell_type": "markdown",
   "metadata": {},
   "source": [
    "# BBNaija\n",
    " \n",
    "**Basically, this is me obviously having some fun.**\n",
    "\n",
    "I decided to predict the housemate to be evicted from the Big Brother Nigeria TV Show based on viewers tweets using the vader sentiment analysis from nltk, So enjoy.\n",
    "\n",
    "In this repo you will find:\n",
    "- The codes I used for scraping data from twitter \n",
    "- The codes used for the analysis and making the plot as one function"
   ]
  },
  {
   "cell_type": "code",
   "execution_count": 22,
   "metadata": {},
   "outputs": [
    {
     "name": "stderr",
     "output_type": "stream",
     "text": [
      "[nltk_data] Downloading package punkt to C:\\Users\\OLADE\n",
      "[nltk_data]     ADEDAMOLA\\AppData\\Roaming\\nltk_data...\n",
      "[nltk_data]   Package punkt is already up-to-date!\n",
      "[nltk_data] Downloading package vader_lexicon to C:\\Users\\OLADE\n",
      "[nltk_data]     ADEDAMOLA\\AppData\\Roaming\\nltk_data...\n",
      "[nltk_data]   Package vader_lexicon is already up-to-date!\n"
     ]
    },
    {
     "data": {
      "text/plain": [
       "True"
      ]
     },
     "execution_count": 22,
     "metadata": {},
     "output_type": "execute_result"
    }
   ],
   "source": [
    "# Run this code if you just installed nltk\n",
    "\n",
    "import nltk\n",
    "\n",
    "nltk.download('punkt')\n",
    "nltk.download('vader_lexicon')"
   ]
  },
  {
   "cell_type": "code",
   "execution_count": 2,
   "metadata": {},
   "outputs": [
    {
     "name": "stdout",
     "output_type": "stream",
     "text": [
      "relevant columns selected\n",
      "data cleaned\n",
      "for dorathy, \n",
      "rating: 0.12371565369196949 \n",
      "count: 29592432.515800003 \n",
      "================================\n",
      "relevant columns selected\n",
      "data cleaned\n",
      "for kiddwaya, \n",
      "rating: 0.10099205362190099 \n",
      "count: 15485989.101799998 \n",
      "================================\n",
      "relevant columns selected\n"
     ]
    },
    {
     "name": "stderr",
     "output_type": "stream",
     "text": [
      "C:\\Users\\Francitoye\\anaconda3\\lib\\site-packages\\IPython\\core\\interactiveshell.py:3263: DtypeWarning: Columns (9) have mixed types.Specify dtype option on import or set low_memory=False.\n",
      "  if (await self.run_code(code, result,  async_=asy)):\n"
     ]
    },
    {
     "name": "stdout",
     "output_type": "stream",
     "text": [
      "data cleaned\n",
      "for ozo, \n",
      "rating: 0.05793930619588441 \n",
      "count: 18328624.181 \n",
      "================================\n",
      "relevant columns selected\n",
      "data cleaned\n",
      "for prince, \n",
      "rating: 0.08467828487716925 \n",
      "count: 26672940.309599996 \n",
      "================================\n"
     ]
    },
    {
     "ename": "NameError",
     "evalue": "name 'total' is not defined",
     "output_type": "error",
     "traceback": [
      "\u001b[1;31m---------------------------------------------------------------------------\u001b[0m",
      "\u001b[1;31mNameError\u001b[0m                                 Traceback (most recent call last)",
      "\u001b[1;32m<ipython-input-2-9eb830ca4262>\u001b[0m in \u001b[0;36m<module>\u001b[1;34m\u001b[0m\n\u001b[0;32m    103\u001b[0m     \u001b[1;32mreturn\u001b[0m \u001b[0mdf\u001b[0m\u001b[1;33m\u001b[0m\u001b[1;33m\u001b[0m\u001b[0m\n\u001b[0;32m    104\u001b[0m \u001b[1;33m\u001b[0m\u001b[0m\n\u001b[1;32m--> 105\u001b[1;33m \u001b[0mbbnaija\u001b[0m\u001b[1;33m(\u001b[0m\u001b[0mpath\u001b[0m \u001b[1;33m=\u001b[0m \u001b[0mpath\u001b[0m\u001b[1;33m)\u001b[0m\u001b[1;33m\u001b[0m\u001b[1;33m\u001b[0m\u001b[0m\n\u001b[0m",
      "\u001b[1;32m<ipython-input-2-9eb830ca4262>\u001b[0m in \u001b[0;36mbbnaija\u001b[1;34m(path)\u001b[0m\n\u001b[0;32m     82\u001b[0m         \u001b[0mprint\u001b[0m\u001b[1;33m(\u001b[0m\u001b[1;34mf'for {j}, \\nrating: {rating} \\ncount: {count} \\n================================'\u001b[0m\u001b[1;33m)\u001b[0m\u001b[1;33m\u001b[0m\u001b[1;33m\u001b[0m\u001b[0m\n\u001b[0;32m     83\u001b[0m     \u001b[1;32mfor\u001b[0m \u001b[0mi\u001b[0m\u001b[1;33m,\u001b[0m\u001b[0mj\u001b[0m \u001b[1;32min\u001b[0m \u001b[0mplt_data\u001b[0m\u001b[1;33m.\u001b[0m\u001b[0mitems\u001b[0m\u001b[1;33m(\u001b[0m\u001b[1;33m)\u001b[0m\u001b[1;33m:\u001b[0m\u001b[1;33m\u001b[0m\u001b[1;33m\u001b[0m\u001b[0m\n\u001b[1;32m---> 84\u001b[1;33m         \u001b[0mdata\u001b[0m\u001b[1;33m[\u001b[0m\u001b[0mi\u001b[0m\u001b[1;33m]\u001b[0m \u001b[1;33m=\u001b[0m \u001b[0mj\u001b[0m\u001b[1;33m/\u001b[0m\u001b[0mtotal\u001b[0m \u001b[1;33m*\u001b[0m \u001b[1;36m100\u001b[0m\u001b[1;33m\u001b[0m\u001b[1;33m\u001b[0m\u001b[0m\n\u001b[0m\u001b[0;32m     85\u001b[0m \u001b[1;33m\u001b[0m\u001b[0m\n\u001b[0;32m     86\u001b[0m     \u001b[0mx\u001b[0m \u001b[1;33m=\u001b[0m \u001b[0mlist\u001b[0m\u001b[1;33m(\u001b[0m\u001b[0mdata\u001b[0m\u001b[1;33m.\u001b[0m\u001b[0mkeys\u001b[0m\u001b[1;33m(\u001b[0m\u001b[1;33m)\u001b[0m\u001b[1;33m)\u001b[0m\u001b[1;33m\u001b[0m\u001b[1;33m\u001b[0m\u001b[0m\n",
      "\u001b[1;31mNameError\u001b[0m: name 'total' is not defined"
     ]
    }
   ],
   "source": [
    "valid = {}\n",
    "\n",
    "filename = {}\n",
    "\n",
    "data = {}\n",
    "\n",
    "plt_data = {}\n",
    "\n",
    "path = 'Scraped_tweets/'\n",
    "\n",
    "#path = 'C:/Users/Francitoye/Documents/Github/BBNaija/Scraped_tweets/'\n",
    "\n",
    "\n",
    "def bbnaija(path):\n",
    "    '''A function that performs sentiment analysis comparison for a group of scraped tweets as long as the scraped data are in seperate csv file.\n",
    "    \n",
    "    This function takes in only the path to the tweet to be analysed.\n",
    "    \n",
    "    '''\n",
    "    \n",
    "    # Importing necessary library\n",
    "    import seaborn as sns\n",
    "    import nltk\n",
    "    import matplotlib.pyplot as plt\n",
    "    from nltk.sentiment.vader import SentimentIntensityAnalyzer\n",
    "    analyser = SentimentIntensityAnalyzer()\n",
    "    import numpy as np\n",
    "    import pandas as pd\n",
    "    import os\n",
    "    \n",
    "    tweet = os.listdir(path = path)\n",
    "\n",
    "\n",
    "    def cleaner(data, column):\n",
    "        data[column] = data[column].apply(lambda text: text.strip('[]'))\n",
    "        data[column] = data[column].apply(lambda text: text.split('/'))\n",
    "        data[column] = data[column].apply(lambda text: '' if len(text)<2 else text[2])\n",
    "        print('data cleaned')\n",
    "        \n",
    "    def remove_ads(i):\n",
    "        '''This function removes ads post from our data'''\n",
    "        if len(i)>2:\n",
    "            if i != 'twitter.com':\n",
    "                return np.NaN\n",
    "            else:\n",
    "                return i\n",
    "        return i\n",
    "    \n",
    "    for index,value in enumerate(tweet):\n",
    "        a = value.split('.')\n",
    "        if len(a) > 1:\n",
    "            if a[1] == 'csv':\n",
    "                valid[index] = a[1]\n",
    "                filename[index] = a[0]\n",
    "        else:\n",
    "            pass\n",
    "    \n",
    "    for i,j in filename.items():\n",
    "\n",
    "        name = tweet[i]\n",
    "        df = pd.read_csv(path+name)\n",
    "        df = df[['date', 'time', 'name', 'tweet', 'mentions', 'urls']]\n",
    "        print('relevant columns selected')\n",
    "    \n",
    "        colu = df.columns.to_list()\n",
    "        cleaner(df, 'urls')\n",
    "\n",
    "        df['urls'] = df['urls'].apply(remove_ads)\n",
    "        df['scores'] = df['tweet'].apply(lambda review: analyser.polarity_scores(review))\n",
    "\n",
    "        df['compound']  = df['scores'].apply(lambda score_dict: score_dict['compound'])\n",
    "\n",
    "        df.dropna(inplace = True)\n",
    "\n",
    "        row, column = df.shape\n",
    "\n",
    "        rating = df['compound'].sum() / row\n",
    "        count = df['compound'].sum() * row\n",
    "        \n",
    "        plt_data[j] = rating\n",
    "        \n",
    "        print(f'for {j}, \\nrating: {rating} \\ncount: {count} \\n================================')\n",
    "    for i,j in plt_data.items():\n",
    "        data[i] = j/total * 100\n",
    "        \n",
    "    x = list(data.keys())\n",
    "    y = list(data.values())\n",
    "    \n",
    "    df =  pd.DataFrame(data = (x,y), index=['housemate', 'rating'])\n",
    "\n",
    "    df = df.T\n",
    "    \n",
    "    plt.pie(labels = x, x = y)\n",
    "    plt.title(f'eviction pie chart for this week')\n",
    "    plt.savefig(fname = path+'bbnaija_pie.png', dpi = 500)\n",
    "    plt.show()\n",
    "    \n",
    "    sns.barplot(x, y)\n",
    "    plt.title(f'eviction histogram for this week')\n",
    "    plt.savefig(fname = path+'bbnaija_bar.png', dpi = 500)\n",
    "    plt.show()\n",
    "    \n",
    "    return df\n",
    "\n",
    "bbnaija(path = path)"
   ]
  },
  {
   "cell_type": "code",
   "execution_count": 81,
   "metadata": {},
   "outputs": [],
   "source": [
    "x = list(plt_data.keys())\n",
    "y = list(plt_data.values())\n",
    "\n",
    "total = sum(y)"
   ]
  },
  {
   "cell_type": "code",
   "execution_count": 82,
   "metadata": {},
   "outputs": [
    {
     "data": {
      "text/plain": [
       "0.3667001806273412"
      ]
     },
     "execution_count": 82,
     "metadata": {},
     "output_type": "execute_result"
    }
   ],
   "source": [
    "total"
   ]
  },
  {
   "cell_type": "code",
   "execution_count": 84,
   "metadata": {},
   "outputs": [
    {
     "data": {
      "text/plain": [
       "([<matplotlib.patches.Wedge at 0x213c9687160>,\n",
       "  <matplotlib.patches.Wedge at 0x213c9687280>,\n",
       "  <matplotlib.patches.Wedge at 0x213c9687940>,\n",
       "  <matplotlib.patches.Wedge at 0x213c967ce20>],\n",
       " [Text(1.0233675756922467, 0.4033841903468378, 'dorathy'),\n",
       "  Text(0.5278590261002414, 0.9650724576758498, 'kiddwaya'),\n",
       "  Text(-0.013965854391644057, 1.0999113395683815, 'ozo'),\n",
       "  Text(-0.49808150630129494, 0.9807725593024273, 'prince')])"
      ]
     },
     "execution_count": 84,
     "metadata": {},
     "output_type": "execute_result"
    },
    {
     "data": {
      "image/png": "[encoded data removed]",
      "text/plain": [
       "<Figure size 432x288 with 1 Axes>"
      ]
     },
     "metadata": {},
     "output_type": "display_data"
    }
   ],
   "source": [
    "plt.pie(labels = x, x = y)"
   ]
  }
 ],
 "metadata": {
  "kernelspec": {
   "display_name": "Python 3",
   "language": "python",
   "name": "python3"
  },
  "language_info": {
   "codemirror_mode": {
    "name": "ipython",
    "version": 3
   },
   "file_extension": ".py",
   "mimetype": "text/x-python",
   "name": "python",
   "nbconvert_exporter": "python",
   "pygments_lexer": "ipython3",
   "version": "3.8.3"
  }
 },
 "nbformat": 4,
 "nbformat_minor": 4
}
