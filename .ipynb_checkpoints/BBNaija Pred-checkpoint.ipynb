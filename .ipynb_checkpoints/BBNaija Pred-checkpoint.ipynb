{
 "cells": [
  {
   "cell_type": "markdown",
   "metadata": {},
   "source": [
    "9# Code in cmd\n",
    "\n",
    "**twint -s [keyword] --since 2020-08-17 --until 2020-08-31 -o [filename].csv --csv**"
   ]
  },
  {
   "cell_type": "code",
   "execution_count": 1,
   "metadata": {},
   "outputs": [],
   "source": [
    "import os"
   ]
  },
  {
   "cell_type": "code",
   "execution_count": 2,
   "metadata": {},
   "outputs": [
    {
     "data": {
      "text/plain": [
       "8"
      ]
     },
     "execution_count": 2,
     "metadata": {},
     "output_type": "execute_result"
    }
   ],
   "source": [
    "tweet = os.listdir(path = 'C:/Users/Francitoye/Documents/Scraped_tweets')\n",
    "len(tweet)"
   ]
  },
  {
   "cell_type": "code",
   "execution_count": 3,
   "metadata": {},
   "outputs": [],
   "source": [
    "import subprocess"
   ]
  },
  {
   "cell_type": "code",
   "execution_count": 6,
   "metadata": {},
   "outputs": [
    {
     "data": {
      "text/plain": [
       "1"
      ]
     },
     "execution_count": 6,
     "metadata": {},
     "output_type": "execute_result"
    }
   ],
   "source": [
    "subprocess.call('twint -s nengi --since 2020-08-17 --until 2020-08-31 -o nengi.csv --csv', shell=True)"
   ]
  },
  {
   "cell_type": "code",
   "execution_count": 10,
   "metadata": {},
   "outputs": [
    {
     "name": "stdout",
     "output_type": "stream",
     "text": [
      "csv\n",
      "csv\n",
      "csv\n",
      "csv\n",
      "lock\n",
      "csv\n",
      "csv\n",
      "0 eric\n",
      "1 kaisha\n",
      "2 laycon\n",
      "3 nengi\n",
      "6 tochi\n",
      "7 trikytee\n"
     ]
    }
   ],
   "source": [
    "import pandas as pd\n",
    "valid = {}\n",
    "filename = {}\n",
    "for index,value in enumerate(tweet):\n",
    "    a = value.split('.')\n",
    "    if len(a) > 1:\n",
    "        if a[1] == 'csv':\n",
    "            valid[index] = a[1]\n",
    "            filename[index] = a[0]\n",
    "        print(a[1])\n",
    "    else:\n",
    "        pass\n",
    "    \n",
    "for i,j in filename.items():\n",
    "    print(i,j)\n",
    "    name = tweet[i]\n",
    "    j = pd.read_csv('C:/Users/Francitoye/Documents/Scraped_tweets/'+name)"
   ]
  },
  {
   "cell_type": "code",
   "execution_count": null,
   "metadata": {},
   "outputs": [],
   "source": []
  },
  {
   "cell_type": "code",
   "execution_count": null,
   "metadata": {},
   "outputs": [],
   "source": [
    "import numpy as np\n",
    "import pandas as pd\n",
    "import matplotlib.pyplot as plt\n",
    "import seaborn as sns\n",
    "import nltk\n",
    "nltk.download('punkt')\n",
    "nltk.download('vader_lexicon')"
   ]
  },
  {
   "cell_type": "code",
   "execution_count": null,
   "metadata": {},
   "outputs": [],
   "source": [
    "df.head()"
   ]
  },
  {
   "cell_type": "code",
   "execution_count": 46,
   "metadata": {},
   "outputs": [
    {
     "name": "stdout",
     "output_type": "stream",
     "text": [
      "relevant columns selected\n",
      "data cleaned\n",
      "for eric, \n",
      "rating: 0.09459317803660566 \n",
      "count: 34167.1505 \n",
      "================\n",
      "relevant columns selected\n",
      "data cleaned\n",
      "for kaisha, \n",
      "rating: 0.2566372881355932 \n",
      "count: 893.3544 \n",
      "================\n",
      "relevant columns selected\n",
      "data cleaned\n",
      "for laycon, \n",
      "rating: 0.17888421052631576 \n",
      "count: 64.57719999999999 \n",
      "================\n",
      "relevant columns selected\n",
      "data cleaned\n",
      "for nengi, \n",
      "rating: 0.17632599999999995 \n",
      "count: 440.81499999999994 \n",
      "================\n",
      "relevant columns selected\n",
      "data cleaned\n",
      "for tochi, \n",
      "rating: 0.08256299212598425 \n",
      "count: 5326.634 \n",
      "================\n",
      "relevant columns selected\n",
      "data cleaned\n",
      "for trikytee, \n",
      "rating: 0.17337499999999997 \n",
      "count: 710.1439999999999 \n",
      "================\n"
     ]
    },
    {
     "data": {
      "image/png": "[encoded data removed]",
      "text/plain": [
       "<Figure size 432x288 with 1 Axes>"
      ]
     },
     "metadata": {},
     "output_type": "display_data"
    },
    {
     "data": {
      "image/png": "[encoded data removed]",
      "text/plain": [
       "<Figure size 432x288 with 1 Axes>"
      ]
     },
     "metadata": {
      "needs_background": "light"
     },
     "output_type": "display_data"
    },
    {
     "data": {
      "text/plain": [
       "'rating: 0.17337499999999997 \\ncount: 710.1439999999999'"
      ]
     },
     "execution_count": 46,
     "metadata": {},
     "output_type": "execute_result"
    }
   ],
   "source": [
    "valid = {}\n",
    "filename = {}\n",
    "plt_data = {}\n",
    "path = 'C:/Users/Francitoye/Documents/Scraped_tweets'\n",
    "def bbnaija(path):\n",
    "    tweet = os.listdir(path = path)\n",
    "    import seaborn as sns\n",
    "    import matplotlib.pyplot as plt\n",
    "    from nltk.sentiment.vader import SentimentIntensityAnalyzer\n",
    "    analyser = SentimentIntensityAnalyzer()\n",
    "    import numpy as np\n",
    "    import pandas as pd\n",
    "    import nltk\n",
    "#    nltk.download('punkt')\n",
    "#    nltk.download('vader_lexicon')\n",
    "\n",
    "    def cleaner(data, column):\n",
    "        data[column] = data[column].apply(lambda text: text.strip('[]'))\n",
    "        data[column] = data[column].apply(lambda text: text.split('/'))\n",
    "        data[column] = data[column].apply(lambda text: '' if len(text)<2 else text[2])\n",
    "        print('data cleaned')\n",
    "        \n",
    "    def remove_ads(i):\n",
    "        '''This function removes ads post from our data'''\n",
    "        if len(i)>2:\n",
    "            if i != 'twitter.com':\n",
    "                return np.NaN\n",
    "            else:\n",
    "                return i\n",
    "        return i\n",
    "    \n",
    "    for index,value in enumerate(tweet):\n",
    "        a = value.split('.')\n",
    "        if len(a) > 1:\n",
    "            if a[1] == 'csv':\n",
    "                valid[index] = a[1]\n",
    "                filename[index] = a[0]\n",
    "        else:\n",
    "            pass\n",
    "    \n",
    "    for i,j in filename.items():\n",
    "\n",
    "        name = tweet[i]\n",
    "        df = pd.read_csv('C:/Users/Francitoye/Documents/Scraped_tweets/'+name)\n",
    "        df = df[['date', 'time', 'name', 'tweet', 'mentions', 'urls']]\n",
    "        print('relevant columns selected')\n",
    "    \n",
    "        colu = df.columns.to_list()\n",
    "        cleaner(df, 'urls')\n",
    "\n",
    "        df['urls'] = df['urls'].apply(remove_ads)\n",
    "        df['scores'] = df['tweet'].apply(lambda review: analyser.polarity_scores(review))\n",
    "\n",
    "        df['compound']  = df['scores'].apply(lambda score_dict: score_dict['compound'])\n",
    "\n",
    "        df.dropna(inplace = True)\n",
    "\n",
    "        row, column = df.shape\n",
    "\n",
    "        rating = df['compound'].sum() / row\n",
    "        count = df['compound'].sum() * row\n",
    "        \n",
    "        plt_data[j] = rating\n",
    "        \n",
    "        print(f'for {j}, \\nrating: {rating} \\ncount: {count} \\n================')\n",
    "    \n",
    "    x = list(plt_data.keys())\n",
    "    y = list(plt_data.values())\n",
    "    plt.pie(y, labels=x)\n",
    "    plt.show()\n",
    "    \n",
    "    sns.barplot(x, y)\n",
    "    plt.show()\n",
    "    \n",
    "    return (f'rating: {rating} \\ncount: {count}')\n",
    "\n",
    "bbnaija(path)"
   ]
  },
  {
   "cell_type": "code",
   "execution_count": 31,
   "metadata": {},
   "outputs": [],
   "source": [
    "import matplotlib.pyplot as plt\n",
    "import seaborn as sns"
   ]
  },
  {
   "cell_type": "code",
   "execution_count": 43,
   "metadata": {},
   "outputs": [
    {
     "data": {
      "image/png": "[encoded data removed]",
      "text/plain": [
       "<Figure size 432x288 with 1 Axes>"
      ]
     },
     "metadata": {},
     "output_type": "display_data"
    }
   ],
   "source": []
  },
  {
   "cell_type": "code",
   "execution_count": null,
   "metadata": {},
   "outputs": [],
   "source": [
    "eric = bbnaija('C:/Users/Francitoye/Documents/Scraped_tweets/eric.csv')\n",
    "kai = bbnaija('C:/Users/Francitoye/Documents/Scraped_tweets/kaisha.csv')\n",
    "tochi = bbnaija('C:/Users/Francitoye/Documents/Scraped_tweets/tochi.csv')\n",
    "tricky = bbnaija('C:/Users/Francitoye/Documents/Scraped_tweets/trikytee.csv')\n",
    "laycon = bbnaija('C:/Users/Francitoye/Documents/Scraped_tweets/laycon.csv')"
   ]
  },
  {
   "cell_type": "code",
   "execution_count": 14,
   "metadata": {},
   "outputs": [
    {
     "data": {
      "text/plain": [
       "'rating: 0.09459317803660566 \\ncount: 34167.1505'"
      ]
     },
     "execution_count": 14,
     "metadata": {},
     "output_type": "execute_result"
    }
   ],
   "source": [
    "eric"
   ]
  },
  {
   "cell_type": "code",
   "execution_count": 15,
   "metadata": {},
   "outputs": [
    {
     "data": {
      "text/plain": [
       "'rating: 0.2566372881355932 \\ncount: 893.3544'"
      ]
     },
     "execution_count": 15,
     "metadata": {},
     "output_type": "execute_result"
    }
   ],
   "source": [
    "kai"
   ]
  },
  {
   "cell_type": "code",
   "execution_count": 16,
   "metadata": {},
   "outputs": [
    {
     "data": {
      "text/plain": [
       "'rating: 0.08256299212598425 \\ncount: 5326.634'"
      ]
     },
     "execution_count": 16,
     "metadata": {},
     "output_type": "execute_result"
    }
   ],
   "source": [
    "tochi"
   ]
  },
  {
   "cell_type": "code",
   "execution_count": 17,
   "metadata": {},
   "outputs": [
    {
     "data": {
      "text/plain": [
       "'rating: 0.17337499999999997 \\ncount: 710.1439999999999'"
      ]
     },
     "execution_count": 17,
     "metadata": {},
     "output_type": "execute_result"
    }
   ],
   "source": [
    "tricky"
   ]
  },
  {
   "cell_type": "code",
   "execution_count": 18,
   "metadata": {},
   "outputs": [
    {
     "data": {
      "text/plain": [
       "'rating: 0.17888421052631576 \\ncount: 64.57719999999999'"
      ]
     },
     "execution_count": 18,
     "metadata": {},
     "output_type": "execute_result"
    }
   ],
   "source": [
    "laycon"
   ]
  },
  {
   "cell_type": "code",
   "execution_count": null,
   "metadata": {},
   "outputs": [],
   "source": []
  },
  {
   "cell_type": "code",
   "execution_count": null,
   "metadata": {},
   "outputs": [],
   "source": [
    "df = pd.read_csv('C:/Users/Francitoye/Documents/Scraped_tweets/laycon.csv')"
   ]
  },
  {
   "cell_type": "code",
   "execution_count": null,
   "metadata": {},
   "outputs": [],
   "source": [
    "df.head()"
   ]
  },
  {
   "cell_type": "code",
   "execution_count": null,
   "metadata": {},
   "outputs": [],
   "source": [
    "df = df[['date', 'time', 'name', 'tweet', 'mentions', 'urls']]"
   ]
  },
  {
   "cell_type": "code",
   "execution_count": null,
   "metadata": {},
   "outputs": [],
   "source": [
    "colu = df.columns.to_list()"
   ]
  },
  {
   "cell_type": "code",
   "execution_count": null,
   "metadata": {},
   "outputs": [],
   "source": [
    "for i in colu:\n",
    "    print(df[i].head())\n",
    "    print(df[i].value_counts(dropna=False).head())"
   ]
  },
  {
   "cell_type": "code",
   "execution_count": null,
   "metadata": {},
   "outputs": [],
   "source": [
    "df.tail()"
   ]
  },
  {
   "cell_type": "code",
   "execution_count": null,
   "metadata": {},
   "outputs": [],
   "source": [
    "df['tweet']"
   ]
  },
  {
   "cell_type": "code",
   "execution_count": null,
   "metadata": {},
   "outputs": [],
   "source": []
  },
  {
   "cell_type": "code",
   "execution_count": null,
   "metadata": {},
   "outputs": [],
   "source": [
    "def cleaner(data, column):\n",
    "    data[column] = data[column].apply(lambda text: text.strip('[]'))\n",
    "    data[column] = data[column].apply(lambda text: text.split('/'))\n",
    "    data[column] = data[column].apply(lambda text: '' if len(text)<2 else text[2])\n",
    "    return data"
   ]
  },
  {
   "cell_type": "code",
   "execution_count": null,
   "metadata": {
    "scrolled": true
   },
   "outputs": [],
   "source": [
    "cleaner(df, 'mentions')"
   ]
  },
  {
   "cell_type": "code",
   "execution_count": null,
   "metadata": {},
   "outputs": [],
   "source": [
    "#df['urls'] = df['urls'].apply(lambda text: '' if len(text)<3 elif np.NaN text != 'twitter.com' else text)"
   ]
  },
  {
   "cell_type": "code",
   "execution_count": null,
   "metadata": {},
   "outputs": [],
   "source": [
    "def url(i):\n",
    "    '''This function removes ads post from our data'''\n",
    "    if len(i)>2:\n",
    "        if i != 'twitter.com':\n",
    "            return np.NaN\n",
    "        else:\n",
    "            return i\n",
    "    return i"
   ]
  },
  {
   "cell_type": "code",
   "execution_count": null,
   "metadata": {},
   "outputs": [],
   "source": [
    "df['urls']=df['urls'].apply(nao)"
   ]
  },
  {
   "cell_type": "code",
   "execution_count": null,
   "metadata": {},
   "outputs": [],
   "source": [
    "df.shape"
   ]
  },
  {
   "cell_type": "code",
   "execution_count": null,
   "metadata": {},
   "outputs": [],
   "source": [
    "df['urls'].isna().sum()"
   ]
  },
  {
   "cell_type": "code",
   "execution_count": null,
   "metadata": {},
   "outputs": [],
   "source": [
    "df.dropna().shape"
   ]
  },
  {
   "cell_type": "code",
   "execution_count": null,
   "metadata": {},
   "outputs": [],
   "source": [
    "df.dropna(inplace=True)"
   ]
  },
  {
   "cell_type": "code",
   "execution_count": null,
   "metadata": {},
   "outputs": [],
   "source": [
    "df['scores'] = df['tweet'].apply(lambda review: analyser.polarity_scores(review))\n",
    "\n",
    "df['compound']  = df['scores'].apply(lambda score_dict: score_dict['compound'])\n",
    "\n",
    "df.head()"
   ]
  },
  {
   "cell_type": "code",
   "execution_count": null,
   "metadata": {},
   "outputs": [],
   "source": [
    "df.iloc[0]"
   ]
  },
  {
   "cell_type": "code",
   "execution_count": null,
   "metadata": {},
   "outputs": [],
   "source": [
    "df.dropna().shape"
   ]
  },
  {
   "cell_type": "code",
   "execution_count": null,
   "metadata": {},
   "outputs": [],
   "source": [
    "df[df['compound']==df['compound'].max()]['tweet'].iloc[0]"
   ]
  },
  {
   "cell_type": "code",
   "execution_count": null,
   "metadata": {},
   "outputs": [],
   "source": [
    "row, column = df.shape"
   ]
  },
  {
   "cell_type": "code",
   "execution_count": null,
   "metadata": {},
   "outputs": [],
   "source": [
    "df['compound'].sum()*row"
   ]
  },
  {
   "cell_type": "code",
   "execution_count": null,
   "metadata": {},
   "outputs": [],
   "source": []
  },
  {
   "cell_type": "code",
   "execution_count": null,
   "metadata": {},
   "outputs": [],
   "source": [
    "df.shape"
   ]
  },
  {
   "cell_type": "code",
   "execution_count": null,
   "metadata": {},
   "outputs": [],
   "source": []
  },
  {
   "cell_type": "code",
   "execution_count": null,
   "metadata": {},
   "outputs": [],
   "source": []
  },
  {
   "cell_type": "code",
   "execution_count": null,
   "metadata": {},
   "outputs": [],
   "source": []
  },
  {
   "cell_type": "code",
   "execution_count": null,
   "metadata": {},
   "outputs": [],
   "source": []
  },
  {
   "cell_type": "code",
   "execution_count": null,
   "metadata": {},
   "outputs": [],
   "source": []
  },
  {
   "cell_type": "code",
   "execution_count": null,
   "metadata": {},
   "outputs": [],
   "source": []
  },
  {
   "cell_type": "code",
   "execution_count": null,
   "metadata": {},
   "outputs": [],
   "source": []
  },
  {
   "cell_type": "code",
   "execution_count": null,
   "metadata": {},
   "outputs": [],
   "source": []
  },
  {
   "cell_type": "code",
   "execution_count": null,
   "metadata": {},
   "outputs": [],
   "source": []
  },
  {
   "cell_type": "code",
   "execution_count": null,
   "metadata": {},
   "outputs": [],
   "source": [
    "from nltk.sentiment.vader import SentimentIntensityAnalyzer\n",
    "\n",
    "analyser = SentimentIntensityAnalyzer()\n",
    "\n",
    "def print_sentiment_scores(tweets):\n",
    "    vadersenti = analyser.polarity_scores(tweets)\n",
    "    return vadersenti\n",
    "\n",
    "text = 'This goes beyond party lines.  Separating families betrays our values as Texans, Americans and fellow human beings'\n",
    "\n",
    "print_sentiment_scores(text)\n"
   ]
  },
  {
   "cell_type": "code",
   "execution_count": null,
   "metadata": {
    "scrolled": false
   },
   "outputs": [],
   "source": [
    "from textblob import TextBlob\n",
    "text = '''\n",
    "These laptops are horrible but I've seen worse. How about lunch today? The food was okay.\n",
    "'''\n",
    "text = 'fuck you'\n",
    "\n",
    "blob = TextBlob(text)\n",
    "for sentence in blob.sentences:\n",
    "    print(sentence.sentiment.polarity)\n",
    "    \n",
    "###########################################################################################################################\n",
    "###########################################################################################################################\n",
    "###########################################################################################################################\n",
    "\n",
    "from vaderSentiment.vaderSentiment import SentimentIntensityAnalyzer\n",
    "analyser = SentimentIntensityAnalyzer()\n",
    "\n",
    "def print_sentiment_scores(tweets):\n",
    "    vadersenti = analyser.polarity_scores(tweets)\n",
    "    return pd.Series([vadersenti['pos'], vadersenti['neg'], vadersenti['neu'], vadersenti['compound']])\n",
    "\n",
    "text = 'This goes beyond party lines.  Separating families betrays our values as Texans, Americans and fellow human beings'\n",
    "\n",
    "print_sentiment_scores(text)\n"
   ]
  }
 ],
 "metadata": {
  "kernelspec": {
   "display_name": "Python 3",
   "language": "python",
   "name": "python3"
  },
  "language_info": {
   "codemirror_mode": {
    "name": "ipython",
    "version": 3
   },
   "file_extension": ".py",
   "mimetype": "text/x-python",
   "name": "python",
   "nbconvert_exporter": "python",
   "pygments_lexer": "ipython3",
   "version": "3.8.3"
  }
 },
 "nbformat": 4,
 "nbformat_minor": 4
}
