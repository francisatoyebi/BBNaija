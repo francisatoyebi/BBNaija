{
 "cells": [
  {
   "cell_type": "markdown",
   "metadata": {},
   "source": [
    "# BBNaija\n",
    " \n",
    "**Basically, this is me obviously having some fun.**\n",
    "\n",
    "I decided to predict the housemate to be evicted from the Big Brother Nigeria TV Show based on viewers tweets using the vader sentiment analysis from nltk, So enjoy.\n",
    "\n",
    "In this repo you will find:\n",
    "- The codes I used for scraping data from twitter \n",
    "- The codes used for the analysis and making the plot as one function"
   ]
  },
  {
   "cell_type": "code",
   "execution_count": 22,
   "metadata": {},
   "outputs": [
    {
     "name": "stderr",
     "output_type": "stream",
     "text": [
      "[nltk_data] Downloading package punkt to C:\\Users\\OLADE\n",
      "[nltk_data]     ADEDAMOLA\\AppData\\Roaming\\nltk_data...\n",
      "[nltk_data]   Package punkt is already up-to-date!\n",
      "[nltk_data] Downloading package vader_lexicon to C:\\Users\\OLADE\n",
      "[nltk_data]     ADEDAMOLA\\AppData\\Roaming\\nltk_data...\n",
      "[nltk_data]   Package vader_lexicon is already up-to-date!\n"
     ]
    },
    {
     "data": {
      "text/plain": [
       "True"
      ]
     },
     "execution_count": 22,
     "metadata": {},
     "output_type": "execute_result"
    }
   ],
   "source": [
    "# Run this code if you just installed nltk\n",
    "\n",
    "import nltk\n",
    "\n",
    "nltk.download('punkt')\n",
    "nltk.download('vader_lexicon')"
   ]
  },
  {
   "cell_type": "code",
   "execution_count": 13,
   "metadata": {},
   "outputs": [
    {
     "name": "stdout",
     "output_type": "stream",
     "text": [
      "relevant columns selected\n",
      "data cleaned\n",
      "for dorathy, \n",
      "rating: 0.12371565369196949 \n",
      "count: 29592432.515800003 \n",
      "================================\n",
      "relevant columns selected\n",
      "data cleaned\n",
      "for kiddwaya, \n",
      "rating: 0.10099205362190099 \n",
      "count: 15485989.101799998 \n",
      "================================\n",
      "relevant columns selected\n"
     ]
    },
    {
     "name": "stderr",
     "output_type": "stream",
     "text": [
      "C:\\Users\\Francitoye\\anaconda3\\lib\\site-packages\\IPython\\core\\interactiveshell.py:3263: DtypeWarning: Columns (9) have mixed types.Specify dtype option on import or set low_memory=False.\n",
      "  if (await self.run_code(code, result,  async_=asy)):\n"
     ]
    },
    {
     "name": "stdout",
     "output_type": "stream",
     "text": [
      "data cleaned\n",
      "for ozo, \n",
      "rating: 0.05793930619588441 \n",
      "count: 18328624.181 \n",
      "================================\n",
      "relevant columns selected\n",
      "data cleaned\n",
      "for prince, \n",
      "rating: 0.08467828487716925 \n",
      "count: 26672940.309599996 \n",
      "================================\n"
     ]
    },
    {
     "data": {
      "image/png": "[encoded data removed]",
      "text/plain": [
       "<Figure size 432x288 with 1 Axes>"
      ]
     },
     "metadata": {},
     "output_type": "display_data"
    },
    {
     "data": {
      "image/png": "[encoded data removed]",
      "text/plain": [
       "<Figure size 432x288 with 1 Axes>"
      ]
     },
     "metadata": {
      "needs_background": "light"
     },
     "output_type": "display_data"
    },
    {
     "data": {
      "text/html": [
       "<div>\n",
       "<style scoped>\n",
       "    .dataframe tbody tr th:only-of-type {\n",
       "        vertical-align: middle;\n",
       "    }\n",
       "\n",
       "    .dataframe tbody tr th {\n",
       "        vertical-align: top;\n",
       "    }\n",
       "\n",
       "    .dataframe thead th {\n",
       "        text-align: right;\n",
       "    }\n",
       "</style>\n",
       "<table border=\"1\" class=\"dataframe\">\n",
       "  <thead>\n",
       "    <tr style=\"text-align: right;\">\n",
       "      <th></th>\n",
       "      <th>housemate</th>\n",
       "      <th>rating</th>\n",
       "    </tr>\n",
       "  </thead>\n",
       "  <tbody>\n",
       "    <tr>\n",
       "      <th>0</th>\n",
       "      <td>dorathy</td>\n",
       "      <td>33.6801</td>\n",
       "    </tr>\n",
       "    <tr>\n",
       "      <th>1</th>\n",
       "      <td>kiddwaya</td>\n",
       "      <td>27.4939</td>\n",
       "    </tr>\n",
       "    <tr>\n",
       "      <th>2</th>\n",
       "      <td>ozo</td>\n",
       "      <td>15.7733</td>\n",
       "    </tr>\n",
       "    <tr>\n",
       "      <th>3</th>\n",
       "      <td>prince</td>\n",
       "      <td>23.0527</td>\n",
       "    </tr>\n",
       "  </tbody>\n",
       "</table>\n",
       "</div>"
      ],
      "text/plain": [
       "  housemate   rating\n",
       "0   dorathy  33.6801\n",
       "1  kiddwaya  27.4939\n",
       "2       ozo  15.7733\n",
       "3    prince  23.0527"
      ]
     },
     "execution_count": 13,
     "metadata": {},
     "output_type": "execute_result"
    }
   ],
   "source": [
    "valid = {}\n",
    "\n",
    "filename = {}\n",
    "\n",
    "data = {}\n",
    "\n",
    "plt_data = {}\n",
    "\n",
    "path = 'Scraped_tweets/'\n",
    "\n",
    "#path = 'C:/Users/Francitoye/Documents/Github/BBNaija/Scraped_tweets/'\n",
    "\n",
    "\n",
    "def bbnaija(path):\n",
    "    '''A function that performs sentiment analysis comparison for a group of scraped tweets as long as the scraped data are in seperate csv file.\n",
    "    \n",
    "    This function takes in only the path to the tweet to be analysed.\n",
    "    \n",
    "    '''\n",
    "    \n",
    "    # Importing necessary library\n",
    "    import seaborn as sns\n",
    "    import nltk\n",
    "    import matplotlib.pyplot as plt\n",
    "    from nltk.sentiment.vader import SentimentIntensityAnalyzer\n",
    "    analyser = SentimentIntensityAnalyzer()\n",
    "    import numpy as np\n",
    "    import pandas as pd\n",
    "    import os\n",
    "    \n",
    "    tweet = os.listdir(path = path)\n",
    "\n",
    "\n",
    "    def cleaner(data, column):\n",
    "        data[column] = data[column].apply(lambda text: text.strip('[]'))\n",
    "        data[column] = data[column].apply(lambda text: text.split('/'))\n",
    "        data[column] = data[column].apply(lambda text: '' if len(text)<2 else text[2])\n",
    "        print('data cleaned')\n",
    "        \n",
    "    def remove_ads(i):\n",
    "        '''This function removes ads post from our data'''\n",
    "        if len(i)>2:\n",
    "            if i != 'twitter.com':\n",
    "                return np.NaN\n",
    "            else:\n",
    "                return i\n",
    "        return i\n",
    "    \n",
    "    for index,value in enumerate(tweet):\n",
    "        a = value.split('.')\n",
    "        if len(a) > 1:\n",
    "            if a[1] == 'csv':\n",
    "                valid[index] = a[1]\n",
    "                filename[index] = a[0]\n",
    "        else:\n",
    "            pass\n",
    "    \n",
    "    for i,j in filename.items():\n",
    "\n",
    "        name = tweet[i]\n",
    "        df = pd.read_csv(path+name)\n",
    "        df = df[['date', 'time', 'name', 'tweet', 'mentions', 'urls']]\n",
    "        print('relevant columns selected')\n",
    "    \n",
    "        colu = df.columns.to_list()\n",
    "        cleaner(df, 'urls')\n",
    "\n",
    "        df['urls'] = df['urls'].apply(remove_ads)\n",
    "        df['scores'] = df['tweet'].apply(lambda review: analyser.polarity_scores(review))\n",
    "\n",
    "        df['compound']  = df['scores'].apply(lambda score_dict: score_dict['compound'])\n",
    "\n",
    "        df.dropna(inplace = True)\n",
    "\n",
    "        row, column = df.shape\n",
    "\n",
    "        rating = df['compound'].sum() / row\n",
    "        count = df['compound'].sum() * row\n",
    "        \n",
    "        plt_data[j] = rating\n",
    "        \n",
    "        print(f'for {j}, \\nrating: {rating} \\ncount: {count} \\n================================')\n",
    "    total = sum(list(plt_data.values()))\n",
    "    \n",
    "    for i,j in plt_data.items():\n",
    "        data[i] = j/total * 100\n",
    "        \n",
    "    x = list(data.keys())\n",
    "    y = list(data.values())\n",
    "    \n",
    "    df =  pd.DataFrame(data = (x,y), index=['housemate', 'rating'])\n",
    "\n",
    "    df = df.T\n",
    "    \n",
    "    plt.pie(labels = x, x = y)\n",
    "    plt.title(f'eviction pie chart for this week')\n",
    "    plt.savefig(fname = path+'bbnaija_pie.png', dpi = 500)\n",
    "    plt.show()\n",
    "    \n",
    "    sns.barplot(x, y)\n",
    "    plt.title(f'eviction histogram for this week')\n",
    "    plt.ylabel('Percentage Rating')\n",
    "    plt.savefig(fname = path+'bbnaija_bar.png', dpi = 500)\n",
    "    plt.show()\n",
    "    \n",
    "    return df\n",
    "\n",
    "bbnaija(path = path)"
   ]
  },
  {
   "cell_type": "markdown",
   "metadata": {},
   "source": [
    "--\n",
    "# Yeah! It was short!\n",
    "\n",
    "That is it and this is the output!\n",
    "\n",
    "<img src=\"Scraped_tweets/bbnaija_bar.png\" alt=\"barchart showing housemate rating\" width=\"70%\" height=\"70%\">"
   ]
  }
 ],
 "metadata": {
  "kernelspec": {
   "display_name": "Python 3",
   "language": "python",
   "name": "python3"
  },
  "language_info": {
   "codemirror_mode": {
    "name": "ipython",
    "version": 3
   },
   "file_extension": ".py",
   "mimetype": "text/x-python",
   "name": "python",
   "nbconvert_exporter": "python",
   "pygments_lexer": "ipython3",
   "version": "3.8.3"
  }
 },
 "nbformat": 4,
 "nbformat_minor": 4
}
